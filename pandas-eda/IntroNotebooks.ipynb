{
 "cells": [
  {
   "cell_type": "code",
   "execution_count": null,
   "metadata": {},
   "outputs": [
    {
     "data": {
      "text/plain": [
       "Hello, World!\n"
      ]
     },
     "metadata": {},
     "output_type": "display_data"
    }
   ],
   "source": [
    "import pandas as pd"
   ]
  },
  {
   "cell_type": "code",
   "execution_count": null,
   "metadata": {},
   "outputs": [],
   "source": [
    "parks_data_df = pd.read_csv('https://raw.githubusercontent.com/melaniewalsh/responsible-datasets-in-context/main/datasets/national-parks/US-National-Parks_RecreationVisits_1979-2023.csv')"
   ]
  },
  {
   "cell_type": "code",
   "execution_count": null,
   "metadata": {},
   "outputs": [
    {
     "data": {
      "text/plain": [
       "    ParkName     Region State  Year  RecreationVisits\n",
       "0  Acadia NP  Northeast    ME  1979           2787366\n",
       "1  Acadia NP  Northeast    ME  1980           2779666\n",
       "2  Acadia NP  Northeast    ME  1981           2997972\n",
       "3  Acadia NP  Northeast    ME  1982           3572114\n",
       "4  Acadia NP  Northeast    ME  1983           4124639\n"
      ]
     },
     "metadata": {},
     "output_type": "display_data"
    }
   ],
   "source": [
    "parks_data_df.head()"
   ]
  },
  {
   "cell_type": "code",
   "execution_count": null,
   "metadata": {},
   "outputs": [
    {
     "data": {
      "text/plain": [
       "['Acadia NP' 'Arches NP' 'Badlands NP' 'Big Bend NP' 'Biscayne NP'\n",
       " 'Black Canyon of the Gunnison NP' 'Bryce Canyon NP' 'Canyonlands NP'\n",
       " 'Capitol Reef NP' 'Carlsbad Caverns NP' 'Channel Islands NP'\n",
       " 'Congaree NP' 'Crater Lake NP' 'Cuyahoga Valley NP' 'Death Valley NP'\n",
       " 'Denali NP & PRES' 'Dry Tortugas NP' 'Everglades NP'\n",
       " 'Gates of the Arctic NP & PRES' 'Gateway Arch NP' 'Glacier Bay NP & PRES'\n",
       " 'Glacier NP' 'Grand Canyon NP' 'Grand Teton NP' 'Great Basin NP'\n",
       " 'Great Sand Dunes NP & PRES' 'Great Smoky Mountains NP'\n",
       " 'Guadalupe Mountains NP' 'Haleakala NP' 'Hawaii Volcanoes NP'\n",
       " 'Hot Springs NP' 'Indiana Dunes NP' 'Isle Royale NP' 'Joshua Tree NP'\n",
       " 'Katmai NP & PRES' 'Kenai Fjords NP' 'Kings Canyon NP' 'Kobuk Valley NP'\n",
       " 'Lake Clark NP & PRES' 'Lassen Volcanic NP' 'Mammoth Cave NP'\n",
       " 'Mesa Verde NP' 'Mount Rainier NP' 'National Park of American Samoa'\n",
       " 'New River Gorge NP & PRES' 'North Cascades NP' 'Olympic NP'\n",
       " 'Petrified Forest NP' 'Pinnacles NP' 'Redwood NP' 'Rocky Mountain NP'\n",
       " 'Saguaro NP' 'Sequoia NP' 'Shenandoah NP' 'Theodore Roosevelt NP'\n",
       " 'Virgin Islands NP' 'Voyageurs NP' 'White Sands NP' 'Wind Cave NP'\n",
       " 'Wrangell-St. Elias NP & PRES' 'Yellowstone NP' 'Yosemite NP' 'Zion NP']\n"
      ]
     },
     "metadata": {},
     "output_type": "display_data"
    }
   ],
   "source": [
    "parks_data_df['ParkName'].unique()"
   ]
  },
  {
   "cell_type": "code",
   "execution_count": null,
   "metadata": {},
   "outputs": [
    {
     "data": {
      "text/plain": [
       "                          ParkName  Region State  Year  RecreationVisits\n",
       "669               Denali NP & PRES  Alaska    AK  1979            251105\n",
       "670               Denali NP & PRES  Alaska    AK  1980            216361\n",
       "671               Denali NP & PRES  Alaska    AK  1981            256593\n",
       "672               Denali NP & PRES  Alaska    AK  1982            321868\n",
       "673               Denali NP & PRES  Alaska    AK  1983            346082\n",
       "...                            ...     ...   ...   ...               ...\n",
       "2643  Wrangell-St. Elias NP & PRES  Alaska    AK  2019             74518\n",
       "2644  Wrangell-St. Elias NP & PRES  Alaska    AK  2020             16655\n",
       "2645  Wrangell-St. Elias NP & PRES  Alaska    AK  2021             50189\n",
       "2646  Wrangell-St. Elias NP & PRES  Alaska    AK  2022             65236\n",
       "2647  Wrangell-St. Elias NP & PRES  Alaska    AK  2023             78305\n",
       "\n",
       "[344 rows x 5 columns]\n"
      ]
     },
     "metadata": {},
     "output_type": "display_data"
    }
   ],
   "source": [
    "parks_data_df[parks_data_df['State'] == 'AK']"
   ]
  },
  {
   "cell_type": "code",
   "execution_count": null,
   "metadata": {},
   "outputs": [
    {
     "data": {
      "text/plain": [
       "['ME' 'UT' 'SD' 'TX' 'FL' 'CO' 'NM' 'CA' 'SC' 'OR' 'OH' 'AK' 'MO' 'MT'\n",
       " 'AZ' 'WY' 'NV' 'TN' 'HI' 'AR' 'IN' 'MI' 'KY' 'WA' 'AS' 'WV' 'VA' 'ND'\n",
       " 'VI' 'MN']\n"
      ]
     },
     "metadata": {},
     "output_type": "display_data"
    }
   ],
   "source": [
    "parks_data_df.State.unique()"
   ]
  },
  {
   "cell_type": "code",
   "execution_count": null,
   "metadata": {},
   "outputs": [
    {
     "data": {
      "text/plain": [
       "ParkName            object\n",
       "Region              object\n",
       "State               object\n",
       "Year                 int64\n",
       "RecreationVisits     int64\n",
       "dtype: object\n"
      ]
     },
     "metadata": {},
     "output_type": "display_data"
    }
   ],
   "source": [
    "parks_data_df.dtypes"
   ]
  },
  {
   "cell_type": "code",
   "execution_count": null,
   "metadata": {},
   "outputs": [
    {
     "data": {
      "text/plain": [
       "   State  ParkName\n",
       "0     AK         8\n",
       "1     AR         1\n",
       "2     AS         1\n",
       "3     AZ         3\n",
       "4     CA         9\n",
       "5     CO         4\n",
       "6     FL         3\n",
       "7     HI         2\n",
       "8     IN         1\n",
       "9     KY         1\n",
       "10    ME         1\n",
       "11    MI         1\n",
       "12    MN         1\n",
       "13    MO         1\n",
       "14    MT         1\n",
       "15    ND         1\n",
       "16    NM         2\n",
       "17    NV         1\n",
       "18    OH         1\n",
       "19    OR         1\n",
       "20    SC         1\n",
       "21    SD         2\n",
       "22    TN         1\n",
       "23    TX         2\n",
       "24    UT         5\n",
       "25    VA         1\n",
       "26    VI         1\n",
       "27    WA         3\n",
       "28    WV         1\n",
       "29    WY         2\n"
      ]
     },
     "metadata": {},
     "output_type": "display_data"
    }
   ],
   "source": [
    "parks_data_df.groupby('State')['ParkName'].nunique().reset_index()\n",
    "\n"
   ]
  }
 ],
 "metadata": {
  "language_info": {
   "name": "python"
  }
 },
 "nbformat": 4,
 "nbformat_minor": 2
}
