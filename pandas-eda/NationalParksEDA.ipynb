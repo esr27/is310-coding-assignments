{
 "cells": [
  {
   "cell_type": "code",
   "execution_count": null,
   "metadata": {},
   "outputs": [],
   "source": [
    "import pandas as pd"
   ]
  },
  {
   "cell_type": "code",
   "execution_count": null,
   "metadata": {},
   "outputs": [],
   "source": [
    "parks_data_df = pd.read_csv('https://raw.githubusercontent.com/melaniewalsh/responsible-datasets-in-context/main/datasets/national-parks/US-National-Parks_RecreationVisits_1979-2023.csv')"
   ]
  },
  {
   "cell_type": "markdown",
   "metadata": {},
   "source": [
    "**1. What is the average number of visits for each state?**"
   ]
  },
  {
   "cell_type": "code",
   "execution_count": null,
   "metadata": {},
   "outputs": [
    {
     "data": {
      "text/plain": [
       "   State  VisitsByState\n",
       "0     AK         140087\n",
       "1     AR        1409689\n",
       "2     AS          14956\n",
       "3     AZ        1855835\n",
       "4     CA         989974\n",
       "5     CO        1055443\n",
       "6     FL         478797\n",
       "7     HI        1300197\n",
       "8     IN        1853265\n",
       "9     KY        1293298\n",
       "10    ME        2980293\n",
       "11    MI          20125\n",
       "12    MN         222293\n",
       "13    MO        2416309\n",
       "14    MT        2070991\n",
       "15    ND         532145\n",
       "16    NM         543457\n",
       "17    NV          85377\n",
       "18    OH        2195553\n",
       "19    OR         486252\n",
       "20    SC          99584\n",
       "21    SD         817751\n",
       "22    TN        9770010\n",
       "23    TX         251496\n",
       "24    UT        1162233\n",
       "25    VA        1519811\n",
       "26    VI         554547\n",
       "27    WA        1495946\n",
       "28    WV        1036167\n",
       "29    WY        2791162\n"
      ]
     },
     "metadata": {},
     "output_type": "display_data"
    }
   ],
   "source": [
    "parks_data_df.groupby('State')['RecreationVisits'].mean().reset_index().rename(columns={'RecreationVisits': 'VisitsByState'})\n"
   ]
  },
  {
   "cell_type": "markdown",
   "metadata": {},
   "source": [
    "**2. What is the average number of visits for each National Park?**"
   ]
  },
  {
   "cell_type": "code",
   "execution_count": null,
   "metadata": {},
   "outputs": [
    {
     "data": {
      "text/plain": [
       "                           ParkName  AverageRecreationVisits  YearsOfData\n",
       "43  National Park of American Samoa                    14956           20\n",
       "11                      Congaree NP                    99584           39\n",
       "44        New River Gorge NP & PRES                  1036167           40\n",
       "59     Wrangell-St. Elias NP & PRES                    48571           42\n",
       "35                  Kenai Fjords NP                   222713           42\n",
       "..                              ...                      ...          ...\n",
       "27           Guadalupe Mountains NP                   181301           45\n",
       "28                     Haleakala NP                  1189186           45\n",
       "29              Hawaii Volcanoes NP                  1411208           45\n",
       "61                      Yosemite NP                  3460200           45\n",
       "62                          Zion NP                  2647042           45\n",
       "\n",
       "[63 rows x 3 columns]\n"
      ]
     },
     "metadata": {},
     "output_type": "display_data"
    }
   ],
   "source": [
    "#parks_data_df.groupby('ParkName')['RecreationVisits'].mean().reset_index().rename(columns={'RecreationVisits': 'AverageRecreationVisits'})\n",
    "parks_data_df.groupby('ParkName').agg({'RecreationVisits': 'mean', 'Year': 'count'}).reset_index().rename(columns={'RecreationVisits': 'AverageRecreationVisits', 'Year': 'YearsOfData'}).sort_values('YearsOfData', ascending=True)"
   ]
  },
  {
   "cell_type": "markdown",
   "metadata": {},
   "source": [
    "**3.How many National Parks are there in each state?**"
   ]
  },
  {
   "cell_type": "code",
   "execution_count": null,
   "metadata": {},
   "outputs": [
    {
     "data": {
      "text/plain": [
       "   State  ParkCount\n",
       "0     AK          8\n",
       "1     AR          1\n",
       "2     AS          1\n",
       "3     AZ          3\n",
       "4     CA          9\n",
       "5     CO          4\n",
       "6     FL          3\n",
       "7     HI          2\n",
       "8     IN          1\n",
       "9     KY          1\n",
       "10    ME          1\n",
       "11    MI          1\n",
       "12    MN          1\n",
       "13    MO          1\n",
       "14    MT          1\n",
       "15    ND          1\n",
       "16    NM          2\n",
       "17    NV          1\n",
       "18    OH          1\n",
       "19    OR          1\n",
       "20    SC          1\n",
       "21    SD          2\n",
       "22    TN          1\n",
       "23    TX          2\n",
       "24    UT          5\n",
       "25    VA          1\n",
       "26    VI          1\n",
       "27    WA          3\n",
       "28    WV          1\n",
       "29    WY          2\n"
      ]
     },
     "metadata": {},
     "output_type": "display_data"
    }
   ],
   "source": [
    "parks_data_df.groupby('State')['ParkName'].nunique().reset_index().rename(columns={'ParkName': 'ParkCount'})"
   ]
  },
  {
   "cell_type": "code",
   "execution_count": null,
   "metadata": {},
   "outputs": [],
   "source": []
  }
 ],
 "metadata": {
  "language_info": {
   "name": "python"
  }
 },
 "nbformat": 4,
 "nbformat_minor": 2
}
